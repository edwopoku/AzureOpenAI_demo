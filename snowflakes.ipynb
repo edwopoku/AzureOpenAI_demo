{
  "cells": [
    {
      "cell_type": "code",
      "source": [
        "# Install packages below needed for the lab\n",
        "!pip install snowflake-snowpark-python pandas notebook scikit-learn cachetools pyarrow==10.0.1\n",
        "!pip install azure-ai-ml\n",
        "!pip install mltable"
      ],
      "outputs": [],
      "execution_count": null,
      "metadata": {}
    },
    {
      "cell_type": "code",
      "source": [
        "from azure.ai.ml import MLClient\n",
        "from azure.identity import DefaultAzureCredential\n",
        "\n",
        "# authenticate\n",
        "credential = DefaultAzureCredential()\n",
        "# # Get a handle to the workspace\n",
        "ml_client = MLClient(\n",
        "    credential=credential,\n",
        "    subscription_id=\"<azure subscription number>\",\n",
        "    resource_group_name=\"<resource group name>\",\n",
        "    workspace_name=\"<azureml workspace name>\",\n",
        ")"
      ],
      "outputs": [],
      "execution_count": null,
      "metadata": {
        "jupyter": {
          "source_hidden": false,
          "outputs_hidden": false
        },
        "nteract": {
          "transient": {
            "deleting": false
          }
        }
      }
    },
    {
      "cell_type": "code",
      "source": [
        "import mltable\n",
        "from azure.ai.ml import MLClient\n",
        "from azure.identity import DefaultAzureCredential\n",
        "\n",
        "# get the latest version of the data asset\n",
        "# Note: The version was set in the previous code cell.\n",
        "data_asset = ml_client.data.get(name=\"orderhistory\", version=\"1\")\n",
        "# create a table\n",
        "tbl = mltable.load(f\"azureml:/{data_asset.id}\")\n",
        "df = tbl.to_pandas_dataframe()\n",
        "df['MED_AGE'] = df['MED_AGE'].apply(str)\n",
        "df"
      ],
      "outputs": [],
      "execution_count": null,
      "metadata": {
        "jupyter": {
          "source_hidden": false,
          "outputs_hidden": false
        },
        "nteract": {
          "transient": {
            "deleting": false
          }
        }
      }
    },
    {
      "cell_type": "code",
      "source": [
        "import pandas as pd\n",
        "import requests\n",
        "import json\n",
        "\n",
        "# Azure OpenAI API endpoint URL\n",
        "endpoint_url = \"<flow endpoint>\"\n",
        "\n",
        "# API key or authentication token for accessing the endpoint\n",
        "api_key = \"<flow endpoint key>\"\n",
        "\n",
        "# Headers for the HTTP request\n",
        "headers = {\n",
        "    \"Authorization\": f\"Bearer {api_key}\",\n",
        "    \"Content-Type\": \"application/json\"\n",
        "}\n",
        "\n",
        "response_data = []\n",
        "\n",
        "# Iterate through rows and make requests\n",
        "for index, row in df.iterrows():\n",
        "    input_purchases = row[\"RECENT_PURCHASES\"]\n",
        "    input_age = row[\"MED_AGE\"]\n",
        "\n",
        "    # Construct payload using the input text\n",
        "    payload = {\n",
        "        \"order_history\": input_purchases,\n",
        "        \"med_age\": input_age,\n",
        "        \"max_tokens\": 100\n",
        "    }\n",
        "\n",
        "    # Convert payload to JSON and encode as bytes\n",
        "    payload_bytes = json.dumps(payload).encode(\"utf-8\")\n",
        "\n",
        "    # Send the POST request\n",
        "    response = requests.post(endpoint_url, data=payload_bytes, headers=headers)\n",
        "\n",
        "    # Process the response\n",
        "    if response.status_code == 200:\n",
        "        result = response.json()\n",
        "        generated_text = result.get(\"output\", \"No generated text found\")\n",
        "        response_data.append({\"Input\": input_purchases, \"Generated\": generated_text})\n",
        "    else:\n",
        "        print(f\"Request for '{input_purchases}' failed with status code:\", response.status_code)\n",
        "\n",
        "# Create a DataFrame from the response data list\n",
        "response_df = pd.DataFrame(response_data)\n",
        "response_df['ID'] = df['ID']\n",
        "\n",
        "# Print the resulting DataFrame\n",
        "response_df"
      ],
      "outputs": [],
      "execution_count": null,
      "metadata": {
        "jupyter": {
          "source_hidden": false,
          "outputs_hidden": false
        },
        "nteract": {
          "transient": {
            "deleting": false
          }
        }
      }
    },
    {
      "cell_type": "code",
      "source": [
        "from snowflake.snowpark import Session\n",
        "connection_parameters = {\n",
        "    \"account\": \"<snowflake account>\", # e.g. birmlgk-ld03678 (orgname-accountIdentifier)\n",
        "    \"user\": \"<username>\", \n",
        "    \"password\": \"<password>\",\n",
        "    \"role\": \"ACCOUNTADMIN\",\n",
        "    \"database\": \"edopoku_db\",\n",
        "    \"schema\": \"PUBLIC\",\n",
        "    \"warehouse\": \"edopokuwh\"\n",
        "    }\n",
        "session = Session.builder.configs(connection_parameters).create()\n",
        "session.write_pandas(response_df, table_name='Marketing_PROMO', auto_create_table=True, overwrite=True)"
      ],
      "outputs": [],
      "execution_count": null,
      "metadata": {
        "jupyter": {
          "source_hidden": false,
          "outputs_hidden": false
        },
        "nteract": {
          "transient": {
            "deleting": false
          }
        }
      }
    }
  ],
  "metadata": {
    "kernelspec": {
      "name": "python310-sdkv2",
      "language": "python",
      "display_name": "Python 3.10 - SDK v2"
    },
    "language_info": {
      "name": "python",
      "version": "3.10.11",
      "mimetype": "text/x-python",
      "codemirror_mode": {
        "name": "ipython",
        "version": 3
      },
      "pygments_lexer": "ipython3",
      "nbconvert_exporter": "python",
      "file_extension": ".py"
    },
    "microsoft": {
      "ms_spell_check": {
        "ms_spell_check_language": "en"
      }
    },
    "kernel_info": {
      "name": "python310-sdkv2"
    },
    "nteract": {
      "version": "nteract-front-end@1.0.0"
    }
  },
  "nbformat": 4,
  "nbformat_minor": 2
}