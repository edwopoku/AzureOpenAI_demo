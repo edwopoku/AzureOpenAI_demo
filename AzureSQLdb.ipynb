{
  "cells": [
    {
      "cell_type": "code",
      "source": [
        "from azure.ai.ml import MLClient\n",
        "from azure.identity import DefaultAzureCredential\n",
        "\n",
        "# authenticate\n",
        "credential = DefaultAzureCredential()\n",
        "# # Get a handle to the workspace\n",
        "ml_client = MLClient(\n",
        "    credential=credential,\n",
        "    subscription_id=\"subscriptionid\",\n",
        "    resource_group_name=\"resourcegroup\",\n",
        "    workspace_name=\"workspacename\",\n",
        ")"
      ],
      "outputs": [],
      "execution_count": 1,
      "metadata": {
        "jupyter": {
          "source_hidden": false,
          "outputs_hidden": false
        },
        "nteract": {
          "transient": {
            "deleting": false
          }
        },
        "gather": {
          "logged": 1716093120115
        }
      }
    },
    {
      "cell_type": "code",
      "source": [
        "\n",
        "import mltable\n",
        "from azure.ai.ml import MLClient\n",
        "from azure.identity import DefaultAzureCredential\n",
        "\n",
        "ml_client = MLClient.from_config(credential=DefaultAzureCredential())\n",
        "data_asset = ml_client.data.get(\"sqlpurchasehistory\", version=\"1\")\n",
        "\n",
        "tbl = mltable.load(data_asset.path)\n",
        "\n",
        "df = tbl.to_pandas_dataframe()\n",
        "df"
      ],
      "outputs": [
        {
          "output_type": "stream",
          "name": "stderr",
          "text": "Found the config file in: /config.json\n"
        },
        {
          "output_type": "execute_result",
          "execution_count": 2,
          "data": {
            "text/plain": "   id                                   recent_purchases    zip  med_age\n0   1             1 Gallon Milk, 24 oz Bread, Dozen Eggs  35404       29\n1   2         16 oz Toothpaste, 12 oz Shampoo, 8 oz Soap  33956       64\n2   3           5 lb Potatoes, 3 lb Onions, 1 lb Carrots  59703       59\n3   4            2 lb Chicken, 1 lb Beef, 0.75 lb Salmon  73043       58\n4   5     18 oz Cereal, 6 oz Yogurt, 1.5 oz Granola Bars  75412       55\n5   6   16 oz Pasta, 24 oz Tomato Sauce, 3 cloves Garlic  15467       53\n6   7  Bunch of Bananas, 1 lb Grapes, 16 oz Strawberries  75217       28\n7   8  8 oz Chips, 16 oz Salsa, 12 oz Guacamole, 10 c...  65622       46\n8   9  6 Rolls Paper Towels, 12 Rolls Toilet Paper, 1...  60546       41\n9  10  1.5 qt Ice Cream, 12 inch Frozen Pizza, 16 oz ...  01002       23",
            "text/html": "<div>\n<style scoped>\n    .dataframe tbody tr th:only-of-type {\n        vertical-align: middle;\n    }\n\n    .dataframe tbody tr th {\n        vertical-align: top;\n    }\n\n    .dataframe thead th {\n        text-align: right;\n    }\n</style>\n<table border=\"1\" class=\"dataframe\">\n  <thead>\n    <tr style=\"text-align: right;\">\n      <th></th>\n      <th>id</th>\n      <th>recent_purchases</th>\n      <th>zip</th>\n      <th>med_age</th>\n    </tr>\n  </thead>\n  <tbody>\n    <tr>\n      <th>0</th>\n      <td>1</td>\n      <td>1 Gallon Milk, 24 oz Bread, Dozen Eggs</td>\n      <td>35404</td>\n      <td>29</td>\n    </tr>\n    <tr>\n      <th>1</th>\n      <td>2</td>\n      <td>16 oz Toothpaste, 12 oz Shampoo, 8 oz Soap</td>\n      <td>33956</td>\n      <td>64</td>\n    </tr>\n    <tr>\n      <th>2</th>\n      <td>3</td>\n      <td>5 lb Potatoes, 3 lb Onions, 1 lb Carrots</td>\n      <td>59703</td>\n      <td>59</td>\n    </tr>\n    <tr>\n      <th>3</th>\n      <td>4</td>\n      <td>2 lb Chicken, 1 lb Beef, 0.75 lb Salmon</td>\n      <td>73043</td>\n      <td>58</td>\n    </tr>\n    <tr>\n      <th>4</th>\n      <td>5</td>\n      <td>18 oz Cereal, 6 oz Yogurt, 1.5 oz Granola Bars</td>\n      <td>75412</td>\n      <td>55</td>\n    </tr>\n    <tr>\n      <th>5</th>\n      <td>6</td>\n      <td>16 oz Pasta, 24 oz Tomato Sauce, 3 cloves Garlic</td>\n      <td>15467</td>\n      <td>53</td>\n    </tr>\n    <tr>\n      <th>6</th>\n      <td>7</td>\n      <td>Bunch of Bananas, 1 lb Grapes, 16 oz Strawberries</td>\n      <td>75217</td>\n      <td>28</td>\n    </tr>\n    <tr>\n      <th>7</th>\n      <td>8</td>\n      <td>8 oz Chips, 16 oz Salsa, 12 oz Guacamole, 10 c...</td>\n      <td>65622</td>\n      <td>46</td>\n    </tr>\n    <tr>\n      <th>8</th>\n      <td>9</td>\n      <td>6 Rolls Paper Towels, 12 Rolls Toilet Paper, 1...</td>\n      <td>60546</td>\n      <td>41</td>\n    </tr>\n    <tr>\n      <th>9</th>\n      <td>10</td>\n      <td>1.5 qt Ice Cream, 12 inch Frozen Pizza, 16 oz ...</td>\n      <td>01002</td>\n      <td>23</td>\n    </tr>\n  </tbody>\n</table>\n</div>"
          },
          "metadata": {}
        }
      ],
      "execution_count": 2,
      "metadata": {
        "jupyter": {
          "source_hidden": false,
          "outputs_hidden": false
        },
        "nteract": {
          "transient": {
            "deleting": false
          }
        },
        "gather": {
          "logged": 1716093124989
        }
      }
    },
    {
      "cell_type": "code",
      "source": [
        "import pandas as pd\n",
        "import requests\n",
        "import json\n",
        "\n",
        "# Azure OpenAI API endpoint URL\n",
        "endpoint_url = \"Promptflow endpoint\"\n",
        "\n",
        "# API key or authentication token for accessing the endpoint\n",
        "api_key = \"prompt flow api key\"\n",
        "\n",
        "# Headers for the HTTP request\n",
        "headers = {\n",
        "    \"Authorization\": f\"Bearer {api_key}\",\n",
        "    \"Content-Type\": \"application/json\"\n",
        "}\n",
        "\n",
        "response_data = []\n",
        "\n",
        "# Iterate through rows and make requests\n",
        "for index, row in df.iterrows():\n",
        "    input_purchases = row[\"recent_purchases\"]\n",
        "    input_age = row[\"med_age\"]\n",
        "\n",
        "    # Construct payload using the input text\n",
        "    payload = {\n",
        "        \"purchase_history\": input_purchases,\n",
        "        \"med_age\": input_age,\n",
        "        \"max_tokens\": 200\n",
        "    }\n",
        "\n",
        "    # Convert payload to JSON and encode as bytes\n",
        "    payload_bytes = json.dumps(payload).encode(\"utf-8\")\n",
        "\n",
        "    # Send the POST request\n",
        "    response = requests.post(endpoint_url, data=payload_bytes, headers=headers)\n",
        "\n",
        "    # Process the response\n",
        "    if response.status_code == 200:\n",
        "        result = response.json()\n",
        "        generated_text = result.get(\"output\", \"No generated text found\")\n",
        "        response_data.append({\"Input\":input_purchases, \"Generated\": generated_text})\n",
        "    else:\n",
        "        print(f\"Request for '{input_purchases}' failed with status code:\", response.status_code)\n",
        "\n",
        "# Create a DataFrame from the response data list\n",
        "response_df = pd.DataFrame(response_data)\n",
        "response_df['id'] = df['id']\n",
        "\n",
        "# Print the resulting DataFrame\n",
        "response_df"
      ],
      "outputs": [
        {
          "output_type": "execute_result",
          "execution_count": 3,
          "data": {
            "text/plain": "                                               Input  \\\n0             1 Gallon Milk, 24 oz Bread, Dozen Eggs   \n1         16 oz Toothpaste, 12 oz Shampoo, 8 oz Soap   \n2           5 lb Potatoes, 3 lb Onions, 1 lb Carrots   \n3            2 lb Chicken, 1 lb Beef, 0.75 lb Salmon   \n4     18 oz Cereal, 6 oz Yogurt, 1.5 oz Granola Bars   \n5   16 oz Pasta, 24 oz Tomato Sauce, 3 cloves Garlic   \n6  Bunch of Bananas, 1 lb Grapes, 16 oz Strawberries   \n7  8 oz Chips, 16 oz Salsa, 12 oz Guacamole, 10 c...   \n8  6 Rolls Paper Towels, 12 Rolls Toilet Paper, 1...   \n9  1.5 qt Ice Cream, 12 inch Frozen Pizza, 16 oz ...   \n\n                                           Generated  id  \n0              1. Cereal\\n2. Butter\\n3. Orange Juice   1  \n1  1. 16 oz Mouthwash\\n2. Hair conditioner for ma...   2  \n2  1. Onion Chopper\\n2. Potato Peeler\\n3. Carrot ...   3  \n3  1. Organic vegetables\\n2. Grill accessories\\n3...   4  \n4  1. Fresh fruit smoothie\\n2. 8 oz milk\\n3. Whol...   5  \n5  1. 1 lb Ground Beef\\n2. Parmesan Cheese\\n3. Fr...   6  \n6        1. Pineapple\\n2. Watermelon\\n3. Blueberries   7  \n7  1. 6 pack of craft beer\\n2. 2 lb ground beef\\n...   8  \n8  1. Dishwashing liquid\\n2. Hand soap\\n3. All-pu...   9  \n9  1. Ice cream scoop \\n2. Frozen dessert topping...  10  ",
            "text/html": "<div>\n<style scoped>\n    .dataframe tbody tr th:only-of-type {\n        vertical-align: middle;\n    }\n\n    .dataframe tbody tr th {\n        vertical-align: top;\n    }\n\n    .dataframe thead th {\n        text-align: right;\n    }\n</style>\n<table border=\"1\" class=\"dataframe\">\n  <thead>\n    <tr style=\"text-align: right;\">\n      <th></th>\n      <th>Input</th>\n      <th>Generated</th>\n      <th>id</th>\n    </tr>\n  </thead>\n  <tbody>\n    <tr>\n      <th>0</th>\n      <td>1 Gallon Milk, 24 oz Bread, Dozen Eggs</td>\n      <td>1. Cereal\\n2. Butter\\n3. Orange Juice</td>\n      <td>1</td>\n    </tr>\n    <tr>\n      <th>1</th>\n      <td>16 oz Toothpaste, 12 oz Shampoo, 8 oz Soap</td>\n      <td>1. 16 oz Mouthwash\\n2. Hair conditioner for ma...</td>\n      <td>2</td>\n    </tr>\n    <tr>\n      <th>2</th>\n      <td>5 lb Potatoes, 3 lb Onions, 1 lb Carrots</td>\n      <td>1. Onion Chopper\\n2. Potato Peeler\\n3. Carrot ...</td>\n      <td>3</td>\n    </tr>\n    <tr>\n      <th>3</th>\n      <td>2 lb Chicken, 1 lb Beef, 0.75 lb Salmon</td>\n      <td>1. Organic vegetables\\n2. Grill accessories\\n3...</td>\n      <td>4</td>\n    </tr>\n    <tr>\n      <th>4</th>\n      <td>18 oz Cereal, 6 oz Yogurt, 1.5 oz Granola Bars</td>\n      <td>1. Fresh fruit smoothie\\n2. 8 oz milk\\n3. Whol...</td>\n      <td>5</td>\n    </tr>\n    <tr>\n      <th>5</th>\n      <td>16 oz Pasta, 24 oz Tomato Sauce, 3 cloves Garlic</td>\n      <td>1. 1 lb Ground Beef\\n2. Parmesan Cheese\\n3. Fr...</td>\n      <td>6</td>\n    </tr>\n    <tr>\n      <th>6</th>\n      <td>Bunch of Bananas, 1 lb Grapes, 16 oz Strawberries</td>\n      <td>1. Pineapple\\n2. Watermelon\\n3. Blueberries</td>\n      <td>7</td>\n    </tr>\n    <tr>\n      <th>7</th>\n      <td>8 oz Chips, 16 oz Salsa, 12 oz Guacamole, 10 c...</td>\n      <td>1. 6 pack of craft beer\\n2. 2 lb ground beef\\n...</td>\n      <td>8</td>\n    </tr>\n    <tr>\n      <th>8</th>\n      <td>6 Rolls Paper Towels, 12 Rolls Toilet Paper, 1...</td>\n      <td>1. Dishwashing liquid\\n2. Hand soap\\n3. All-pu...</td>\n      <td>9</td>\n    </tr>\n    <tr>\n      <th>9</th>\n      <td>1.5 qt Ice Cream, 12 inch Frozen Pizza, 16 oz ...</td>\n      <td>1. Ice cream scoop \\n2. Frozen dessert topping...</td>\n      <td>10</td>\n    </tr>\n  </tbody>\n</table>\n</div>"
          },
          "metadata": {}
        }
      ],
      "execution_count": 3,
      "metadata": {
        "jupyter": {
          "source_hidden": false,
          "outputs_hidden": false
        },
        "nteract": {
          "transient": {
            "deleting": false
          }
        },
        "gather": {
          "logged": 1716093135905
        }
      }
    },
    {
      "cell_type": "code",
      "source": [
        "!pip install pyodbc\n"
      ],
      "outputs": [
        {
          "output_type": "stream",
          "name": "stdout",
          "text": "Requirement already satisfied: pyodbc in /anaconda/envs/azureml_py38/lib/python3.8/site-packages (4.0.39)\r\n"
        }
      ],
      "execution_count": 9,
      "metadata": {
        "jupyter": {
          "source_hidden": false,
          "outputs_hidden": false
        },
        "nteract": {
          "transient": {
            "deleting": false
          }
        }
      }
    },
    {
      "cell_type": "code",
      "source": [
        "import pyodbc\n",
        "\n",
        "# Define connection parameters\n",
        "connection_parameters = {\n",
        "    'server': 'sqlserver',\n",
        "    'database': 'databasename',\n",
        "    'username': 'username',\n",
        "    'password': 'password',\n",
        "    'driver': '{ODBC Driver 17 for SQL Server}',\n",
        "}\n",
        "\n",
        "# DataFrame to SQL data type mapping\n",
        "# Define the dtype mapping dictionary\n",
        "dtype_mapping = {\n",
        "    'object': 'TEXT',\n",
        "    'int64': 'INTEGER',\n",
        "    'int32': 'INTEGER',  # Add this line to handle int32 dtype\n",
        "    'float64': 'FLOAT'\n",
        "}\n",
        "\n",
        "\n",
        "# Function to generate CREATE TABLE statement from DataFrame columns\n",
        "def generate_create_table_statement(df, table_name):\n",
        "    columns = ',\\n'.join([f\"{col} {dtype_mapping[df[col].dtype.name]}\" for col in df.columns])\n",
        "    return f\"CREATE TABLE {table_name} (\\n{columns}\\n);\"\n",
        "\n",
        "# Establish a connection to the database\n",
        "conn = pyodbc.connect(\n",
        "    f\"DRIVER={connection_parameters['driver']};\"\n",
        "    f\"SERVER={connection_parameters['server']};\"\n",
        "    f\"DATABASE={connection_parameters['database']};\"\n",
        "    f\"UID={connection_parameters['username']};\"\n",
        "    f\"PWD={connection_parameters['password']}\"\n",
        ")\n",
        "\n",
        "# Create a cursor\n",
        "cursor = conn.cursor()\n",
        "\n",
        "# Generate CREATE TABLE statement\n",
        "create_table_statement = generate_create_table_statement(response_df, 'newtable')\n",
        "\n",
        "# Create the table if it does not exist\n",
        "cursor.execute(create_table_statement)\n",
        "\n",
        "# Iterate through rows of the DataFrame and insert data into the database\n",
        "for index, row in response_df.iterrows():\n",
        "    # Example: Insert data into the table 'newtable'\n",
        "    placeholders = ', '.join(['?'] * len(row))\n",
        "    insert_query = f\"INSERT INTO newtable VALUES ({placeholders})\"\n",
        "    cursor.execute(insert_query, tuple(row))\n",
        "\n",
        "# Commit the transaction\n",
        "conn.commit()\n",
        "\n",
        "# Close the cursor and connection\n",
        "cursor.close()\n",
        "conn.close()\n"
      ],
      "outputs": [],
      "execution_count": 13,
      "metadata": {
        "jupyter": {
          "source_hidden": false,
          "outputs_hidden": false
        },
        "nteract": {
          "transient": {
            "deleting": false
          }
        },
        "gather": {
          "logged": 1716093867210
        }
      }
    }
  ],
  "metadata": {
    "kernelspec": {
      "name": "python38-azureml",
      "language": "python",
      "display_name": "Python 3.8 - AzureML"
    },
    "language_info": {
      "name": "python",
      "version": "3.8.5",
      "mimetype": "text/x-python",
      "codemirror_mode": {
        "name": "ipython",
        "version": 3
      },
      "pygments_lexer": "ipython3",
      "nbconvert_exporter": "python",
      "file_extension": ".py"
    },
    "microsoft": {
      "ms_spell_check": {
        "ms_spell_check_language": "en"
      },
      "host": {
        "AzureML": {
          "notebookHasBeenCompleted": true
        }
      }
    },
    "kernel_info": {
      "name": "python38-azureml"
    },
    "nteract": {
      "version": "nteract-front-end@1.0.0"
    }
  },
  "nbformat": 4,
  "nbformat_minor": 2
}
